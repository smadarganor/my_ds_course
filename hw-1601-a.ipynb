{
 "cells": [
  {
   "cell_type": "code",
   "execution_count": 1,
   "metadata": {},
   "outputs": [
    {
     "name": "stdout",
     "output_type": "stream",
     "text": [
      "my height is  1.6 meter ,my weight is  55 kgs and my BMI is 21.484374999999996\n"
     ]
    }
   ],
   "source": [
    "height_in_meter = 1.6\n",
    "weight_in_kilo = 55\n",
    "bmi = weight_in_kilo/height_in_meter**2\n",
    "print(\"my height is \", height_in_meter,\"meter ,my weight is \",weight_in_kilo,\"kgs and my BMI is\",bmi)"
   ]
  },
  {
   "cell_type": "code",
   "execution_count": 5,
   "metadata": {},
   "outputs": [
    {
     "name": "stdout",
     "output_type": "stream",
     "text": [
      "my height is  1.6 meter ,\n",
      "my weight is  55 kgs \n",
      "and my BMI is 21.484374999999996\n"
     ]
    }
   ],
   "source": [
    "height_in_meter = 1.6\n",
    "weight_in_kilo = 55\n",
    "bmi = weight_in_kilo/height_in_meter**2\n",
    "print(\"my height is \", height_in_meter,\"meter ,\\nmy weight is \",weight_in_kilo,\"kgs \\nand my BMI is\",bmi)"
   ]
  },
  {
   "cell_type": "code",
   "execution_count": 21,
   "metadata": {},
   "outputs": [
    {
     "name": "stdout",
     "output_type": "stream",
     "text": [
      "11\n",
      "smadar ganor\n",
      "smAdAr gAnOr\n"
     ]
    }
   ],
   "source": [
    "first_name = \"smadar\"\n",
    "last_name = \"ganor\"\n",
    "print((len(first_name+last_name)))\n",
    "full_name= first_name+\" \"+last_name\n",
    "print (full_name)\n",
    "new_full_name= full_name.replace(\"a\",\"A\")\n",
    "new_full_name = new_full_name.replace(\"e\",\"E\")\n",
    "new_full_name = new_full_name.replace(\"i\",\"I\")\n",
    "new_full_name = new_full_name.replace(\"o\",\"O\")\n",
    "new_full_name = new_full_name.replace(\"u\",\"U\")\n",
    "print (new_full_name)"
   ]
  },
  {
   "cell_type": "code",
   "execution_count": 49,
   "metadata": {},
   "outputs": [
    {
     "name": "stdout",
     "output_type": "stream",
     "text": [
      "same city - False \n",
      "frind is older - True \n",
      "gender is diffrence - True \n",
      "both married - False\n"
     ]
    }
   ],
   "source": [
    "my_gender = \"F\"\n",
    "my_age = 46\n",
    "my_city = \"rishon le zion\"\n",
    "my_status = \"married\"\n",
    "my_frind_gender = \"M\"\n",
    "my_frind_age = 47\n",
    "my_frind_city = \"tel aviv\"\n",
    "my_frind_status = \"not married\"\n",
    "is_same_city = my_city==my_frind_city\n",
    "is_older = my_frind_age > my_age \n",
    "is_diff_gender = my_gender != my_frind_gender \n",
    "is_both_married = my_status == my_frind_status\n",
    "print (\"same city - %s \\nfrind is older - %s \\ngender is diffrence - %s \\nboth married - %s\"\n",
    "       %(is_same_city,is_older,is_diff_gender,is_both_married))\n",
    "\n",
    "\n"
   ]
  }
 ],
 "metadata": {
  "kernelspec": {
   "display_name": "Python 3",
   "language": "python",
   "name": "python3"
  },
  "language_info": {
   "codemirror_mode": {
    "name": "ipython",
    "version": 3
   },
   "file_extension": ".py",
   "mimetype": "text/x-python",
   "name": "python",
   "nbconvert_exporter": "python",
   "pygments_lexer": "ipython3",
   "version": "3.6.3"
  }
 },
 "nbformat": 4,
 "nbformat_minor": 2
}
