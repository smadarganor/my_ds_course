{
 "cells": [
  {
   "cell_type": "code",
   "execution_count": 1,
   "metadata": {},
   "outputs": [],
   "source": [
    "boys_list = [\"tomer\",\"dan\",\"avi\"]\n",
    "girls_list = [\"tali\",\"adi\",\"sara\"]\n"
   ]
  },
  {
   "cell_type": "code",
   "execution_count": 2,
   "metadata": {},
   "outputs": [
    {
     "name": "stdout",
     "output_type": "stream",
     "text": [
      "['tomer', 'dan', 'avi']\n",
      "['tomer', 'dan', 'avi', 'yaron']\n"
     ]
    }
   ],
   "source": [
    "print (boys_list)\n",
    "boys_list.append (\"yaron\")\n",
    "print (boys_list)"
   ]
  },
  {
   "cell_type": "code",
   "execution_count": 3,
   "metadata": {},
   "outputs": [
    {
     "name": "stdout",
     "output_type": "stream",
     "text": [
      "['tali', 'adi', 'sara']\n",
      "['keren', 'tali', 'adi', 'sara']\n"
     ]
    }
   ],
   "source": [
    "print (girls_list)\n",
    "girls_list.insert (0,\"keren\")\n",
    "print (girls_list)"
   ]
  },
  {
   "cell_type": "code",
   "execution_count": 4,
   "metadata": {},
   "outputs": [
    {
     "name": "stdout",
     "output_type": "stream",
     "text": [
      "['keren', 'tali', 'adi']\n",
      "sara\n"
     ]
    }
   ],
   "source": [
    "bride = girls_list.pop()\n",
    "print (girls_list)\n",
    "print (bride)"
   ]
  },
  {
   "cell_type": "code",
   "execution_count": 5,
   "metadata": {},
   "outputs": [
    {
     "name": "stdout",
     "output_type": "stream",
     "text": [
      "['dan', 'avi', 'yaron']\n",
      "tomer\n"
     ]
    }
   ],
   "source": [
    "groom = boys_list.pop(0)\n",
    "print (boys_list)\n",
    "print (groom)"
   ]
  },
  {
   "cell_type": "code",
   "execution_count": 6,
   "metadata": {},
   "outputs": [
    {
     "name": "stdout",
     "output_type": "stream",
     "text": [
      "['dan', 'avi']\n"
     ]
    }
   ],
   "source": [
    "boys_list.remove(\"yaron\")\n",
    "print (boys_list)"
   ]
  },
  {
   "cell_type": "code",
   "execution_count": 7,
   "metadata": {
    "collapsed": true
   },
   "outputs": [],
   "source": [
    "#i can't remove the laדt name using REMOVE without knowing it"
   ]
  },
  {
   "cell_type": "code",
   "execution_count": 8,
   "metadata": {},
   "outputs": [
    {
     "name": "stdout",
     "output_type": "stream",
     "text": [
      "[['dan', 'avi', 'keren', 'tali', 'adi']]\n"
     ]
    }
   ],
   "source": [
    "names = [boys_list+girls_list]\n",
    "print (names)"
   ]
  },
  {
   "cell_type": "code",
   "execution_count": 9,
   "metadata": {},
   "outputs": [
    {
     "name": "stdout",
     "output_type": "stream",
     "text": [
      "['dan', 35, 'MERRIED']\n",
      "['dan', 38, 'MERRIED']\n"
     ]
    }
   ],
   "source": [
    "guy1_list = [\"tomer\",20,\"NOT MERRIED\"]\n",
    "guy2_list = [\"dan\",35,\"MERRIED\"]\n",
    "guy3_list = [\"avi\",40,\"MERRIED\"]\n",
    "print (guy2_list)\n",
    "guy2_list[1] = 38\n",
    "print (guy2_list)\n"
   ]
  },
  {
   "cell_type": "code",
   "execution_count": 19,
   "metadata": {},
   "outputs": [
    {
     "name": "stdout",
     "output_type": "stream",
     "text": [
      "['tomer', 20, 'NOT MERRIED']\n",
      "['dan', 38, 'MERRIED']\n",
      "['avi', 40, 'MERRIED']\n",
      "[['tomer', 20, 'NOT MERRIED'], ['dan', 38, 'MERRIED'], ['avi', 40, 'MERRIED']]\n"
     ]
    }
   ],
   "source": [
    "print (guy1_list)\n",
    "print (guy2_list)\n",
    "print (guy3_list)\n",
    "guys_list = [guy1_list,guy2_list,guy3_list]\n",
    "print (guys_list)"
   ]
  },
  {
   "cell_type": "code",
   "execution_count": 20,
   "metadata": {},
   "outputs": [
    {
     "name": "stdout",
     "output_type": "stream",
     "text": [
      "[['tomer', 20, 'NOT MERRIED'], ['dan', 38, 'MERRIED'], ['avi', 40, 'MERRIED'], ['ofer', 50, 'MERRIED']]\n"
     ]
    }
   ],
   "source": [
    "guy4_list = [\"ofer\",50,\"MERRIED\"]\n",
    "guys_list.append (guy4_list)\n",
    "print (guys_list)\n"
   ]
  },
  {
   "cell_type": "code",
   "execution_count": 21,
   "metadata": {},
   "outputs": [
    {
     "name": "stdout",
     "output_type": "stream",
     "text": [
      "[['tomer', 20, 'NOT MERRIED'], ['dan', 38, 'MERRIED'], ['avi', 45, 'MERRIED'], ['ofer', 50, 'MERRIED']]\n"
     ]
    }
   ],
   "source": [
    "guys_list [2][1] = 45\n",
    "print (guys_list)"
   ]
  },
  {
   "cell_type": "code",
   "execution_count": 22,
   "metadata": {},
   "outputs": [
    {
     "name": "stdout",
     "output_type": "stream",
     "text": [
      "[['dan', 38, 'MERRIED'], ['avi', 45, 'MERRIED'], ['ofer', 50, 'MERRIED']]\n"
     ]
    }
   ],
   "source": [
    "guys_list.remove (guy1_list)\n",
    "print (guys_list)"
   ]
  },
  {
   "cell_type": "code",
   "execution_count": 23,
   "metadata": {},
   "outputs": [
    {
     "name": "stdout",
     "output_type": "stream",
     "text": [
      "[['dan', 38, 'MERRIED'], ['avi', 45, 'MERRIED']]\n"
     ]
    }
   ],
   "source": [
    "guys_list.pop (2)\n",
    "print (guys_list)"
   ]
  },
  {
   "cell_type": "code",
   "execution_count": 25,
   "metadata": {},
   "outputs": [
    {
     "name": "stdout",
     "output_type": "stream",
     "text": [
      "['i', 'love', 'you']\n"
     ]
    }
   ],
   "source": [
    "sentence = \"i love you\"\n",
    "sentence_list = sentence.split()\n",
    "print (sentence_list)"
   ]
  },
  {
   "cell_type": "code",
   "execution_count": 27,
   "metadata": {},
   "outputs": [
    {
     "name": "stdout",
     "output_type": "stream",
     "text": [
      "i\n",
      "love\n",
      "you\n"
     ]
    }
   ],
   "source": [
    "sentence_new_line = \"\\n\".join(sentence_list)\n",
    "print(sentence_new_line)"
   ]
  },
  {
   "cell_type": "code",
   "execution_count": 29,
   "metadata": {},
   "outputs": [
    {
     "data": {
      "text/plain": [
       "2"
      ]
     },
     "execution_count": 29,
     "metadata": {},
     "output_type": "execute_result"
    }
   ],
   "source": [
    "sentence.count(\"o\")"
   ]
  },
  {
   "cell_type": "code",
   "execution_count": 33,
   "metadata": {},
   "outputs": [
    {
     "data": {
      "text/plain": [
       "2"
      ]
     },
     "execution_count": 33,
     "metadata": {},
     "output_type": "execute_result"
    }
   ],
   "source": [
    "len(sentence.split(\"o\"))-1\n"
   ]
  },
  {
   "cell_type": "code",
   "execution_count": null,
   "metadata": {
    "collapsed": true
   },
   "outputs": [],
   "source": []
  }
 ],
 "metadata": {
  "kernelspec": {
   "display_name": "Python 3",
   "language": "python",
   "name": "python3"
  },
  "language_info": {
   "codemirror_mode": {
    "name": "ipython",
    "version": 3
   },
   "file_extension": ".py",
   "mimetype": "text/x-python",
   "name": "python",
   "nbconvert_exporter": "python",
   "pygments_lexer": "ipython3",
   "version": "3.6.3"
  }
 },
 "nbformat": 4,
 "nbformat_minor": 2
}
#my_ds_course
